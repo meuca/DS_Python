{
 "cells": [
  {
   "cell_type": "markdown",
   "metadata": {},
   "source": [
    "## Resumen GIT"
   ]
  },
  {
   "cell_type": "markdown",
   "metadata": {},
   "source": [
    "### Definición"
   ]
  },
  {
   "cell_type": "markdown",
   "metadata": {},
   "source": [
    "Versión Control systems\n",
    "> A VCS is a set of tools used to keep track of changes in files and/or folders in a series of snapshots.  \n",
    "> This snapshots are managed along with metadata to keep track of dates and users."
   ]
  },
  {
   "cell_type": "markdown",
   "metadata": {},
   "source": [
    "There a several VCS, however, GIT has become a standard in the industry.  \n",
    "GIT works on a command line base interface, while this can be a down side for some users, in the other hand, allows for users with more experience a simplistic way of managing code along with the possibility of easily automate tasks.\n",
    "\n",
    "GIT has different versions wich runs on different OS covering the populars, and its command line is design to run in local enviroments, however, there are several tools capables of working with GIT allowing remote repositories on internet. Probably the most popular remote based git tool is GIT hub.\n",
    "This implies that GIT can work perfectly good in a local enviroment, but you can \"extend\" it functionality by using a remote repository, this becomes specially useful wen you are working in a remote based team where share a physical repository is not possible.\n",
    "\n",
    "Both tools can be accesible in the below links:"
   ]
  },
  {
   "cell_type": "markdown",
   "metadata": {},
   "source": [
    "|Tool Name|Link|Logo\n",
    "|:---:|:---:|:---:|\n",
    "|Git| [Git](https://git-scm.com/)| ![GIT_LOGO](https://git-scm.com/images/logos/2color-lightbg@2x.png)|\n",
    "|Git Hub| [Git Hub](https://github.com/) | ![GITHUB_LOGO](https://logos-world.net/wp-content/uploads/2020/11/GitHub-Logo-700x394.png)|:---:||:---:| |"
   ]
  },
  {
   "cell_type": "markdown",
   "metadata": {},
   "source": [
    "## GIT Data Model"
   ]
  },
  {
   "cell_type": "markdown",
   "metadata": {},
   "source": [
    "The directory itself is a \"tree\" structure, where a folder is a tree, this can contain other folders and files.  \n",
    "In this model files are called \"blob\", a tree can contain other trees and blobs. A blob cannot contain a tree.\n",
    "* blob: array of bytes\n",
    "* tree: mappings of directory name and/or other tree and blob\n",
    "* commit: Snap structure\n",
    "* parents: Array of commits\n",
    "\n",
    "Each objected has it own hash and are stored separetely, but they might be referenced among them by this hash.\n",
    "\n",
    "In order to easier the access of each object, there is a map that matches names to ids."
   ]
  },
  {
   "cell_type": "markdown",
   "metadata": {},
   "source": [
    "### History track"
   ]
  },
  {
   "cell_type": "markdown",
   "metadata": {},
   "source": [
    "GIT keeps history track based on snapshots, where a snapshot is a copy of the whole tree structure.  \n",
    "Each snapshot points to its predecesor snapshot, allowing a snapshot to have more than one succesor.  \n",
    "In other words, the possibility of having multiple succesors means it is possible to create brances of versions.  \n",
    "\n",
    "Each snap has its own id which is a SHA1\n",
    "\n",
    "This structure is not mutable since the ids are directly related with the content of the snap."
   ]
  },
  {
   "cell_type": "markdown",
   "metadata": {},
   "source": [
    "### GIT Staging area"
   ]
  },
  {
   "cell_type": "markdown",
   "metadata": {},
   "source": [
    "GIT uses a concept called staging area, which basically allows you to select which changes do you wanto to include in your snapshot"
   ]
  },
  {
   "cell_type": "markdown",
   "metadata": {},
   "source": [
    "## GIT commands"
   ]
  },
  {
   "cell_type": "markdown",
   "metadata": {},
   "source": [
    "* **git config**: Manage all the git configurarition, it is a text file which can be modified by commands to edit specific values or edit them directly in a text editor.  \n",
    "* **git help**: Shows the available commands and a brief descpription of each.  \n",
    "* **git init**: starts a repository into the directory where the command is executed.  \n",
    "* **git status**: Shows the current status of a repository.  \n",
    "* **git add <filename|directory>**: Adds the indicated object to the staging area making it part of the next commit.  \n",
    "* **git add -p <filename|directory>**: The p modifier allows to stage parts of a file instead the whole file.\n",
    "* **git commit**: Creates the actual snapshot, taking the content fo the staging area and adding a new element to the tracked history.  \n",
    "\\* if a comment is not included with the commit command, it opens a text editor to add the comment, there cannot be any commit without a comment\\*  \n",
    "\n",
    "* **git log**: Shows the history of changes.    \n",
    "* **git checkout <_hash>**: \"Restore\" the files of the repository as they were by the time of the snapshot.  \n",
    "\n",
    "* **git diff <_hash> <_hash2> <_filename>**: Shows the differences between the current file version to the indicated snapshot. If the hash were sent to the command it compares both indicated snap versions.  \n",
    "* **git branch**: Show current branches in the repository.  \n",
    "* **git branch <_Branch name>**: Creates a new brack pointing parent to the current HEAD.  \n",
    "* **git merge <_Branch name>**: Merge the referenced branch back to the master branch.  \n",
    "\n",
    "* **git remote**: It list all configured remotes, or clones of the current repository.  \n",
    "* **git remote <_name> <_path>**: When a name and path are added to the command it creates a new remote with the indicated name in the indicated path. This path can be a URL.  \n",
    "\n",
    "* **git push <_remote Name> <_local branch>: <_remote branch>**: Creates or updates the branch in the remote repository with the content of the indicated local branch\n",
    "\n",
    "* **git clone <_path> <_Repository name>** : Makes a copy of a remote repositore and makes a local copy of it.\n",
    "* **git clone --shallow**: the Shallow modifier only gets the lates snapshot without the data realted to the repository's history.  \n",
    "* **git fetch**: Retreives to the local repository the lates changes in the current remote branch.  But it doesn't merge with the local branch\n",
    "* **git pull**: Retriesves to the local repository the lates changes in the current remote branch and merges with the current local branch.  \n",
    "\n",
    "* **git stash**: Temporally removes changes in a file. With the modifier \"pop\" it restores the changes.\n",
    "    \n",
    "    \n"
   ]
  },
  {
   "cell_type": "markdown",
   "metadata": {},
   "source": [
    "___"
   ]
  },
  {
   "cell_type": "markdown",
   "metadata": {},
   "source": [
    "# GIT DEMO Very Basic Commands"
   ]
  },
  {
   "cell_type": "markdown",
   "metadata": {},
   "source": [
    "## Demo using Windows"
   ]
  },
  {
   "cell_type": "markdown",
   "metadata": {},
   "source": [
    "Launching the command line.  \n",
    "If the default configuration is being used you can use git commands from powershell. \n",
    "\n",
    "Lauching PowerShell and redirecting to Git repository directory\n",
    "![PowerShell](https://pluralsight2.imgix.net/paths/images/powershell-a98a1ad445.png?w=70)"
   ]
  },
  {
   "cell_type": "code",
   "execution_count": 3,
   "metadata": {},
   "outputs": [
    {
     "name": "stdout",
     "output_type": "stream",
     "text": [
      "\u0000\u0000l\u0000 \u0000s\u0000u\u0000b\u0000s\u0000i\u0000s\u0000t\u0000e\u0000m\u0000a\u0000 \u0000d\u0000e\u0000 \u0000W\u0000i\u0000n\u0000d\u0000o\u0000w\u0000s\u0000 \u0000p\u0000a\u0000r\u0000a\u0000 \u0000L\u0000i\u0000n\u0000u\u0000x\u0000 \u0000n\u0000o\u0000 \u0000t\u0000i\u0000e\u0000n\u0000e\u0000 \u0000d\u0000i\u0000s\u0000t\u0000r\u0000i\u0000b\u0000u\u0000c\u0000i\u0000o\u0000n\u0000e\u0000s\u0000 \u0000i\u0000n\u0000s\u0000t\u0000a\u0000l\u0000a\u0000d\u0000a\u0000s\u0000.\u0000\n",
      "\u0000P\u0000a\u0000r\u0000a\u0000 \u0000i\u0000n\u0000s\u0000t\u0000a\u0000l\u0000a\u0000r\u0000 \u0000l\u0000a\u0000s\u0000 \u0000d\u0000i\u0000s\u0000t\u0000r\u0000i\u0000b\u0000u\u0000c\u0000i\u0000o\u0000n\u0000e\u0000s\u0000,\u0000 \u0000s\u0000e\u0000 \u0000p\u0000u\u0000e\u0000d\u0000e\u0000 \u0000v\u0000i\u0000s\u0000i\u0000t\u0000a\u0000r\u0000 \u0000M\u0000i\u0000c\u0000r\u0000o\u0000s\u0000o\u0000f\u0000t\u0000 \u0000S\u0000t\u0000o\u0000r\u0000e\u0000:\u0000\n",
      "\u0000h\u0000t\u0000t\u0000p\u0000s\u0000:\u0000/\u0000/\u0000a\u0000k\u0000a\u0000.\u0000m\u0000s\u0000/\u0000w\u0000s\u0000l\u0000s\u0000t\u0000o\u0000r\u0000e\u0000\n",
      "\u0000"
     ]
    },
    {
     "ename": "CalledProcessError",
     "evalue": "Command 'b'git\\n'' returned non-zero exit status 4294967295.",
     "output_type": "error",
     "traceback": [
      "\u001b[1;31m---------------------------------------------------------------------------\u001b[0m",
      "\u001b[1;31mCalledProcessError\u001b[0m                        Traceback (most recent call last)",
      "\u001b[1;32m<ipython-input-3-675e2a419adb>\u001b[0m in \u001b[0;36m<module>\u001b[1;34m\u001b[0m\n\u001b[1;32m----> 1\u001b[1;33m \u001b[0mget_ipython\u001b[0m\u001b[1;33m(\u001b[0m\u001b[1;33m)\u001b[0m\u001b[1;33m.\u001b[0m\u001b[0mrun_cell_magic\u001b[0m\u001b[1;33m(\u001b[0m\u001b[1;34m'bash'\u001b[0m\u001b[1;33m,\u001b[0m \u001b[1;34m''\u001b[0m\u001b[1;33m,\u001b[0m \u001b[1;34m'git\\n'\u001b[0m\u001b[1;33m)\u001b[0m\u001b[1;33m\u001b[0m\u001b[1;33m\u001b[0m\u001b[0m\n\u001b[0m",
      "\u001b[1;32mD:\\D_ProgramFiles\\anaconda3\\lib\\site-packages\\IPython\\core\\interactiveshell.py\u001b[0m in \u001b[0;36mrun_cell_magic\u001b[1;34m(self, magic_name, line, cell)\u001b[0m\n\u001b[0;32m   2380\u001b[0m             \u001b[1;32mwith\u001b[0m \u001b[0mself\u001b[0m\u001b[1;33m.\u001b[0m\u001b[0mbuiltin_trap\u001b[0m\u001b[1;33m:\u001b[0m\u001b[1;33m\u001b[0m\u001b[1;33m\u001b[0m\u001b[0m\n\u001b[0;32m   2381\u001b[0m                 \u001b[0margs\u001b[0m \u001b[1;33m=\u001b[0m \u001b[1;33m(\u001b[0m\u001b[0mmagic_arg_s\u001b[0m\u001b[1;33m,\u001b[0m \u001b[0mcell\u001b[0m\u001b[1;33m)\u001b[0m\u001b[1;33m\u001b[0m\u001b[1;33m\u001b[0m\u001b[0m\n\u001b[1;32m-> 2382\u001b[1;33m                 \u001b[0mresult\u001b[0m \u001b[1;33m=\u001b[0m \u001b[0mfn\u001b[0m\u001b[1;33m(\u001b[0m\u001b[1;33m*\u001b[0m\u001b[0margs\u001b[0m\u001b[1;33m,\u001b[0m \u001b[1;33m**\u001b[0m\u001b[0mkwargs\u001b[0m\u001b[1;33m)\u001b[0m\u001b[1;33m\u001b[0m\u001b[1;33m\u001b[0m\u001b[0m\n\u001b[0m\u001b[0;32m   2383\u001b[0m             \u001b[1;32mreturn\u001b[0m \u001b[0mresult\u001b[0m\u001b[1;33m\u001b[0m\u001b[1;33m\u001b[0m\u001b[0m\n\u001b[0;32m   2384\u001b[0m \u001b[1;33m\u001b[0m\u001b[0m\n",
      "\u001b[1;32mD:\\D_ProgramFiles\\anaconda3\\lib\\site-packages\\IPython\\core\\magics\\script.py\u001b[0m in \u001b[0;36mnamed_script_magic\u001b[1;34m(line, cell)\u001b[0m\n\u001b[0;32m    140\u001b[0m             \u001b[1;32melse\u001b[0m\u001b[1;33m:\u001b[0m\u001b[1;33m\u001b[0m\u001b[1;33m\u001b[0m\u001b[0m\n\u001b[0;32m    141\u001b[0m                 \u001b[0mline\u001b[0m \u001b[1;33m=\u001b[0m \u001b[0mscript\u001b[0m\u001b[1;33m\u001b[0m\u001b[1;33m\u001b[0m\u001b[0m\n\u001b[1;32m--> 142\u001b[1;33m             \u001b[1;32mreturn\u001b[0m \u001b[0mself\u001b[0m\u001b[1;33m.\u001b[0m\u001b[0mshebang\u001b[0m\u001b[1;33m(\u001b[0m\u001b[0mline\u001b[0m\u001b[1;33m,\u001b[0m \u001b[0mcell\u001b[0m\u001b[1;33m)\u001b[0m\u001b[1;33m\u001b[0m\u001b[1;33m\u001b[0m\u001b[0m\n\u001b[0m\u001b[0;32m    143\u001b[0m \u001b[1;33m\u001b[0m\u001b[0m\n\u001b[0;32m    144\u001b[0m         \u001b[1;31m# write a basic docstring:\u001b[0m\u001b[1;33m\u001b[0m\u001b[1;33m\u001b[0m\u001b[1;33m\u001b[0m\u001b[0m\n",
      "\u001b[1;32m<decorator-gen-104>\u001b[0m in \u001b[0;36mshebang\u001b[1;34m(self, line, cell)\u001b[0m\n",
      "\u001b[1;32mD:\\D_ProgramFiles\\anaconda3\\lib\\site-packages\\IPython\\core\\magic.py\u001b[0m in \u001b[0;36m<lambda>\u001b[1;34m(f, *a, **k)\u001b[0m\n\u001b[0;32m    185\u001b[0m     \u001b[1;31m# but it's overkill for just that one bit of state.\u001b[0m\u001b[1;33m\u001b[0m\u001b[1;33m\u001b[0m\u001b[1;33m\u001b[0m\u001b[0m\n\u001b[0;32m    186\u001b[0m     \u001b[1;32mdef\u001b[0m \u001b[0mmagic_deco\u001b[0m\u001b[1;33m(\u001b[0m\u001b[0marg\u001b[0m\u001b[1;33m)\u001b[0m\u001b[1;33m:\u001b[0m\u001b[1;33m\u001b[0m\u001b[1;33m\u001b[0m\u001b[0m\n\u001b[1;32m--> 187\u001b[1;33m         \u001b[0mcall\u001b[0m \u001b[1;33m=\u001b[0m \u001b[1;32mlambda\u001b[0m \u001b[0mf\u001b[0m\u001b[1;33m,\u001b[0m \u001b[1;33m*\u001b[0m\u001b[0ma\u001b[0m\u001b[1;33m,\u001b[0m \u001b[1;33m**\u001b[0m\u001b[0mk\u001b[0m\u001b[1;33m:\u001b[0m \u001b[0mf\u001b[0m\u001b[1;33m(\u001b[0m\u001b[1;33m*\u001b[0m\u001b[0ma\u001b[0m\u001b[1;33m,\u001b[0m \u001b[1;33m**\u001b[0m\u001b[0mk\u001b[0m\u001b[1;33m)\u001b[0m\u001b[1;33m\u001b[0m\u001b[1;33m\u001b[0m\u001b[0m\n\u001b[0m\u001b[0;32m    188\u001b[0m \u001b[1;33m\u001b[0m\u001b[0m\n\u001b[0;32m    189\u001b[0m         \u001b[1;32mif\u001b[0m \u001b[0mcallable\u001b[0m\u001b[1;33m(\u001b[0m\u001b[0marg\u001b[0m\u001b[1;33m)\u001b[0m\u001b[1;33m:\u001b[0m\u001b[1;33m\u001b[0m\u001b[1;33m\u001b[0m\u001b[0m\n",
      "\u001b[1;32mD:\\D_ProgramFiles\\anaconda3\\lib\\site-packages\\IPython\\core\\magics\\script.py\u001b[0m in \u001b[0;36mshebang\u001b[1;34m(self, line, cell)\u001b[0m\n\u001b[0;32m    243\u001b[0m             \u001b[0msys\u001b[0m\u001b[1;33m.\u001b[0m\u001b[0mstderr\u001b[0m\u001b[1;33m.\u001b[0m\u001b[0mflush\u001b[0m\u001b[1;33m(\u001b[0m\u001b[1;33m)\u001b[0m\u001b[1;33m\u001b[0m\u001b[1;33m\u001b[0m\u001b[0m\n\u001b[0;32m    244\u001b[0m         \u001b[1;32mif\u001b[0m \u001b[0margs\u001b[0m\u001b[1;33m.\u001b[0m\u001b[0mraise_error\u001b[0m \u001b[1;32mand\u001b[0m \u001b[0mp\u001b[0m\u001b[1;33m.\u001b[0m\u001b[0mreturncode\u001b[0m\u001b[1;33m!=\u001b[0m\u001b[1;36m0\u001b[0m\u001b[1;33m:\u001b[0m\u001b[1;33m\u001b[0m\u001b[1;33m\u001b[0m\u001b[0m\n\u001b[1;32m--> 245\u001b[1;33m             \u001b[1;32mraise\u001b[0m \u001b[0mCalledProcessError\u001b[0m\u001b[1;33m(\u001b[0m\u001b[0mp\u001b[0m\u001b[1;33m.\u001b[0m\u001b[0mreturncode\u001b[0m\u001b[1;33m,\u001b[0m \u001b[0mcell\u001b[0m\u001b[1;33m,\u001b[0m \u001b[0moutput\u001b[0m\u001b[1;33m=\u001b[0m\u001b[0mout\u001b[0m\u001b[1;33m,\u001b[0m \u001b[0mstderr\u001b[0m\u001b[1;33m=\u001b[0m\u001b[0merr\u001b[0m\u001b[1;33m)\u001b[0m\u001b[1;33m\u001b[0m\u001b[1;33m\u001b[0m\u001b[0m\n\u001b[0m\u001b[0;32m    246\u001b[0m \u001b[1;33m\u001b[0m\u001b[0m\n\u001b[0;32m    247\u001b[0m     \u001b[1;32mdef\u001b[0m \u001b[0m_run_script\u001b[0m\u001b[1;33m(\u001b[0m\u001b[0mself\u001b[0m\u001b[1;33m,\u001b[0m \u001b[0mp\u001b[0m\u001b[1;33m,\u001b[0m \u001b[0mcell\u001b[0m\u001b[1;33m,\u001b[0m \u001b[0mto_close\u001b[0m\u001b[1;33m)\u001b[0m\u001b[1;33m:\u001b[0m\u001b[1;33m\u001b[0m\u001b[1;33m\u001b[0m\u001b[0m\n",
      "\u001b[1;31mCalledProcessError\u001b[0m: Command 'b'git\\n'' returned non-zero exit status 4294967295."
     ]
    }
   ],
   "source": [
    "%%bash\n",
    "git"
   ]
  }
 ],
 "metadata": {
  "kernelspec": {
   "display_name": "Python 3",
   "language": "python",
   "name": "python3"
  },
  "language_info": {
   "codemirror_mode": {
    "name": "ipython",
    "version": 3
   },
   "file_extension": ".py",
   "mimetype": "text/x-python",
   "name": "python",
   "nbconvert_exporter": "python",
   "pygments_lexer": "ipython3",
   "version": "3.8.5"
  }
 },
 "nbformat": 4,
 "nbformat_minor": 4
}
