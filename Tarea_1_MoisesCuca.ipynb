{
 "cells": [
  {
   "cell_type": "markdown",
   "metadata": {},
   "source": [
    "## Resumen GIT"
   ]
  },
  {
   "cell_type": "markdown",
   "metadata": {},
   "source": [
    "### Definición"
   ]
  },
  {
   "cell_type": "markdown",
   "metadata": {},
   "source": [
    "Versión Control systems\n",
    "> Tools used to keep track of changes in files and/or folders in a series of snapshots.  \n",
    "> This snapshots are managed along with metadata to keep track of dates and users."
   ]
  },
  {
   "cell_type": "markdown",
   "metadata": {},
   "source": [
    "## GIT Data Model"
   ]
  },
  {
   "cell_type": "markdown",
   "metadata": {},
   "source": [
    "The directory itself is a \"tree\" structure, where a folder is a tree, this can contain other folders and files.  \n",
    "In this model files are called \"blob\", a tree can contain other trees and blobs. A blob cannot contain a tree.\n",
    "* blob: array of bytes\n",
    "* tree: mappings of directory name and/or other tree and blob\n",
    "* commit: Snap structure\n",
    "* parents: Array of commits\n",
    "\n",
    "Each objected has it own hash and are stored separetely, but they might be referenced among them by this hash.\n",
    "\n",
    "In order to easier the access of each object, there is a map that matches names to ids."
   ]
  },
  {
   "cell_type": "markdown",
   "metadata": {},
   "source": [
    "### History track"
   ]
  },
  {
   "cell_type": "markdown",
   "metadata": {},
   "source": [
    "GIT keeps history track based on snapshots, where a snapshot is a copy of the whole tree structure.  \n",
    "Each snapshot points to its predecesor snapshot, allowing a snapshot to have more than one succesor.  \n",
    "In other words, the possibility of having multiple succesors means it is possible to create brances of versions.  \n",
    "\n",
    "Each snap has its own id which is a SHA1\n",
    "\n",
    "This structure is not mutable since the ids are directly related with the content of the snap."
   ]
  },
  {
   "cell_type": "markdown",
   "metadata": {},
   "source": [
    "### GIT Staging area"
   ]
  },
  {
   "cell_type": "markdown",
   "metadata": {},
   "source": [
    "GIT uses a concept called staging area, which basically allows you to select which changes do you wanto to include in your snapshot"
   ]
  },
  {
   "cell_type": "markdown",
   "metadata": {},
   "source": [
    "## GIT commands"
   ]
  },
  {
   "cell_type": "markdown",
   "metadata": {},
   "source": [
    "* **git config**: Manage all the git configurarition, it is a text file which can be modified by commands to edit specific values or edit them directly in a text editor.  \n",
    "* **git help**: Shows the available commands and a brief descpription of each.  \n",
    "* **git init**: starts a repository into the directory where the command is executed.  \n",
    "* **git status**: Shows the current status of a repository.  \n",
    "* **git add <filename|directory>**: Adds the indicated object to the staging area making it part of the next commit.  \n",
    "* **git add -p <filename|directory>**: The p modifier allows to stage parts of a file instead the whole file.\n",
    "* **git commit**: Creates the actual snapshot, taking the content fo the staging area and adding a new element to the tracked history.  \n",
    "\\* if a comment is not included with the commit command, it opens a text editor to add the comment, there cannot be any commit without a comment\\*  \n",
    "\n",
    "* **git log**: Shows the history of changes.    \n",
    "* **git checkout <_hash>**: \"Restore\" the files of the repository as they were by the time of the snapshot.  \n",
    "\n",
    "* **git diff <_hash> <_hash2> <_filename>**: Shows the differences between the current file version to the indicated snapshot. If the hash were sent to the command it compares both indicated snap versions.  \n",
    "* **git branch**: Show current branches in the repository.  \n",
    "* **git branch <_Branch name>**: Creates a new brack pointing parent to the current HEAD.  \n",
    "* **git merge <_Branch name>**: Merge the referenced branch back to the master branch.  \n",
    "\n",
    "* **git remote**: It list all configured remotes, or clones of the current repository.  \n",
    "* **git remote <_name> <_path>**: When a name and path are added to the command it creates a new remote with the indicated name in the indicated path. This path can be a URL.  \n",
    "\n",
    "* **git push <_remote Name> <_local branch>: <_remote branch>**: Creates or updates the branch in the remote repository with the content of the indicated local branch\n",
    "\n",
    "* **git clone <_path> <_Repository name>** : Makes a copy of a remote repositore and makes a local copy of it.\n",
    "* **git clone --shallow**: the Shallow modifier only gets the lates snapshot without the data realted to the repository's history.  \n",
    "* **git fetch**: Retreives to the local repository the lates changes in the current remote branch.  But it doesn't merge with the local branch\n",
    "* **git pull**: Retriesves to the local repository the lates changes in the current remote branch and merges with the current local branch.  \n",
    "\n",
    "* **git stash**: Temporally removes changes in a file. With the modifier \"pop\" it restores the changes.\n",
    "    \n",
    "    \n"
   ]
  },
  {
   "cell_type": "code",
   "execution_count": null,
   "metadata": {},
   "outputs": [],
   "source": []
  }
 ],
 "metadata": {
  "kernelspec": {
   "display_name": "Python 3",
   "language": "python",
   "name": "python3"
  },
  "language_info": {
   "codemirror_mode": {
    "name": "ipython",
    "version": 3
   },
   "file_extension": ".py",
   "mimetype": "text/x-python",
   "name": "python",
   "nbconvert_exporter": "python",
   "pygments_lexer": "ipython3",
   "version": "3.8.5"
  }
 },
 "nbformat": 4,
 "nbformat_minor": 4
}
