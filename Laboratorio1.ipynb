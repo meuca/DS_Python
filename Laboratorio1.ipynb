{
 "cells": [
  {
   "cell_type": "markdown",
   "metadata": {},
   "source": [
    "# Laboratorio 1"
   ]
  },
  {
   "cell_type": "code",
   "execution_count": 117,
   "metadata": {},
   "outputs": [],
   "source": [
    "class my_regression:\n",
    "    \n",
    "    def __init__(self, _X, _Y):\n",
    "        #properties data containers\n",
    "        self.__X =[]\n",
    "        self.__Y =[]\n",
    "        self.__n = -1\n",
    "        self.__B0 = -1\n",
    "        self.__B1 = -1\n",
    "        self.__r2 = -1\n",
    "        self.__regressionCalculated = False\n",
    "        \n",
    "        self.X = _X\n",
    "        self.Y = _Y\n",
    "        \n",
    "        self.__calculateRegression()\n",
    "    \n",
    "    @classmethod\n",
    "    def from_file(self, path):\n",
    "        file = open(path, \"r\")\n",
    "        i = 0\n",
    "        X = []\n",
    "        Y = []\n",
    "        for line in file:\n",
    "            i += 1\n",
    "            line = line.strip()\n",
    "            vals = line.split(\",\")\n",
    "            if(len(vals) != 2):\n",
    "                raise Exception(f\"file format is not correct line {i}\")\n",
    "            X.append(float(vals[0]))\n",
    "            Y.append(float(vals[1]))\n",
    "        \n",
    "        return self(X, Y)\n",
    "        \n",
    "\n",
    "    def __validateList(self, inList):\n",
    "        if(type(inList) is not list):\n",
    "            raise TypeError(\"Data parameter must be list type\")\n",
    "        if(not inList):\n",
    "            raise Exception(\"Data list cannot be empty\")\n",
    "        \n",
    "    def __validateInput(self, inList):\n",
    "        self.__validateList(inList)        \n",
    "        if(self.__n == -1):\n",
    "            self.__n = len(inList)\n",
    "        elif (self.__n != len(inList)):\n",
    "            raise Exception(\"Data sets lenght does not match, please check input data\")\n",
    "        \n",
    "        self.__regressionCalculated = False    \n",
    "    \n",
    "    def __calculateRegression(self):\n",
    "        avgX = sum(self.X)/self.__n\n",
    "        avgY = sum(self.Y)/self.__n\n",
    "        sumXY = sum([self.X[i]*self.Y[i] for i in range(self.__n)])        \n",
    "        \n",
    "        self.__B0 = (sumXY-self.__n*avgX*avgY)/(sum([x**2 for x in self.X])-self.__n*avgX**2)\n",
    "        self.__B1 = avgY-self.__B0*avgX\n",
    "                        \n",
    "        sumYi_Y = sum([(self.Y[i] - (self.__B1+self.__B0*self.X[i]))**2 for i in range(self.__n)])\n",
    "        sumYi_avgY = sum([(y - avgY)**2 for y in self.Y])\n",
    "        \n",
    "        self.__r2 = 1 - sumYi_Y /sumYi_avgY\n",
    "        self.__regressionCalculated = True\n",
    "    \n",
    "    def __checkCalculations(self):\n",
    "        if(not self.__regressionCalculated):\n",
    "            self.__calculateRegression()\n",
    "        \n",
    "    @property\n",
    "    def X(self):\n",
    "        return self.__X\n",
    "    \n",
    "    @X.setter\n",
    "    def X(self, _x):\n",
    "        self.__validateInput(_x)\n",
    "        self.__X = _x\n",
    "    \n",
    "    @property\n",
    "    def Y(self):\n",
    "        return self.__Y\n",
    "    @Y.setter\n",
    "    def Y(self, _y):\n",
    "        self.__validateInput(_y)\n",
    "        self.__Y = _y\n",
    "    \n",
    "    def Predict(self, val):\n",
    "        self.__checkCalculations()\n",
    "        return self.__B1+self.__B0*val\n",
    "    \n",
    "    def PredictN(self, vals):\n",
    "        self.__validateList(vals)\n",
    "        self.__checkCalculations()\n",
    "        return [self.Predict(x) for x in vals]\n",
    "    \n",
    "    def r2(self):\n",
    "        self.__checkCalculations()\n",
    "        return self.__r2\n",
    "    \n",
    "    def r(self):\n",
    "        self.__checkCalculations()\n",
    "        return self.__r2**0.5\n",
    "    \n",
    "    def getAllRegParams(self):\n",
    "        self.__checkCalculations()\n",
    "        return {'b0' : self.__B0, 'b1' : self.__B1, 'r2':self.__r2, 'r':self.r()}\n",
    "            "
   ]
  },
  {
   "cell_type": "code",
   "execution_count": 112,
   "metadata": {},
   "outputs": [
    {
     "name": "stdout",
     "output_type": "stream",
     "text": [
      "88.32142857142858\n",
      "[88.32142857142858, 98.85714285714286, 109.39285714285714]\n",
      "0.8008632113671502\n",
      "0.8949096107245414\n",
      "{'b0': 10.535714285714286, 'b1': 56.714285714285715, 'r2': 0.8008632113671502, 'r': 0.8949096107245414}\n"
     ]
    }
   ],
   "source": [
    "reg1 = my_regression([1, 2, 3, 4, 5, 6, 7], [74, 79, 80, 90, 105, 142, 122])\n",
    "\n",
    "print(reg1.Predict(3))\n",
    "print(reg1.PredictN([3,4,5]))\n",
    "print(reg1.r2())\n",
    "print(reg1.r())\n",
    "print(reg1.getAllRegParams())"
   ]
  },
  {
   "cell_type": "code",
   "execution_count": 118,
   "metadata": {},
   "outputs": [
    {
     "name": "stdout",
     "output_type": "stream",
     "text": [
      "88.32142857142858\n",
      "[88.32142857142858, 98.85714285714286, 109.39285714285714]\n",
      "0.8008632113671502\n",
      "0.8949096107245414\n",
      "{'b0': 10.535714285714286, 'b1': 56.714285714285715, 'r2': 0.8008632113671502, 'r': 0.8949096107245414}\n"
     ]
    }
   ],
   "source": [
    "reg2 = my_regression.from_file(\"LabInput.csv\")\n",
    "\n",
    "print(reg2.Predict(3))\n",
    "print(reg2.PredictN([3,4,5]))\n",
    "print(reg2.r2())\n",
    "print(reg2.r())\n",
    "print(reg2.getAllRegParams())"
   ]
  }
 ],
 "metadata": {
  "kernelspec": {
   "display_name": "Python 3",
   "language": "python",
   "name": "python3"
  },
  "language_info": {
   "codemirror_mode": {
    "name": "ipython",
    "version": 3
   },
   "file_extension": ".py",
   "mimetype": "text/x-python",
   "name": "python",
   "nbconvert_exporter": "python",
   "pygments_lexer": "ipython3",
   "version": "3.8.5"
  }
 },
 "nbformat": 4,
 "nbformat_minor": 4
}
