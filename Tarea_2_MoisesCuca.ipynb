{
 "cells": [
  {
   "cell_type": "markdown",
   "metadata": {},
   "source": [
    "# Hoja de trabajo 2"
   ]
  },
  {
   "cell_type": "markdown",
   "metadata": {},
   "source": [
    "## Sintaxis, listas y tuplas"
   ]
  },
  {
   "cell_type": "markdown",
   "metadata": {},
   "source": [
    "### Parte 1"
   ]
  },
  {
   "cell_type": "markdown",
   "metadata": {},
   "source": [
    "### Ejercicio 1\n",
    "Haga un programa en Python que reciba de parámetro un número de segundos y que despliegue en pantalla, las horas, minutos y segundos que representan\n"
   ]
  },
  {
   "cell_type": "code",
   "execution_count": 27,
   "metadata": {},
   "outputs": [],
   "source": [
    "# validating natural numbers input\n",
    "def ValidateNaturalNumber(requestMsg, limit=-1):\n",
    "    validInput = False\n",
    "    validatedInput = 0\n",
    "    while(not validInput):\n",
    "        print(requestMsg)\n",
    "        TimeInput = input()\n",
    "        try:\n",
    "            validatedInput = int(TimeInput)\n",
    "            if(limit == -1):\n",
    "                validInput = True if validatedInput > 0 else False\n",
    "            else:\n",
    "                validInput = True if validatedInput > 0 and validatedInput <= limit else False\n",
    "            if(not validInput):\n",
    "                extraText = f\"menores a {limit}\" if limit != -1 else \"\"\n",
    "                print(f\"Solamente se admiten números enteros positivos {extraText}\")           \n",
    "        except:\n",
    "            print(\"El valor ingresado no puede ser convertido a un número entero\")\n",
    "\n",
    "    \n",
    "    return validatedInput"
   ]
  },
  {
   "cell_type": "code",
   "execution_count": 59,
   "metadata": {},
   "outputs": [
    {
     "name": "stdout",
     "output_type": "stream",
     "text": [
      "Ingrese la cantidad de segundos a convertir\n"
     ]
    },
    {
     "name": "stdin",
     "output_type": "stream",
     "text": [
      " 5871\n"
     ]
    },
    {
     "name": "stdout",
     "output_type": "stream",
     "text": [
      "Horas:1, Minutos:37, Segundos:51\n"
     ]
    }
   ],
   "source": [
    "Hours = 0\n",
    "Minutes = 0\n",
    "Seconds = 0\n",
    "\n",
    "Seconds = ValidateNaturalNumber(\"Ingrese la cantidad de segundos a convertir\")     \n",
    "\n",
    "\n",
    "Hours = (Seconds // 3600) if Seconds >= 3600 else 0\n",
    "Seconds = Seconds % 3600\n",
    "Minutes = (Seconds // 60) if Seconds >= 60 else 0\n",
    "Seconds = Seconds % 60\n",
    "\n",
    "print(f\"Horas:{Hours}, Minutos:{Minutes}, Segundos:{Seconds}\" )"
   ]
  },
  {
   "cell_type": "markdown",
   "metadata": {},
   "source": [
    "---"
   ]
  },
  {
   "cell_type": "markdown",
   "metadata": {},
   "source": [
    "### Ejercicio 2\n",
    "Haga un programa en Python que dado un número entre 1 y 20. Y un carácter cualquiera despliegue cuatro patrones triangulares."
   ]
  },
  {
   "cell_type": "code",
   "execution_count": 28,
   "metadata": {},
   "outputs": [
    {
     "name": "stdout",
     "output_type": "stream",
     "text": [
      "Ingrese el tamaño del patron triangular\n"
     ]
    },
    {
     "name": "stdin",
     "output_type": "stream",
     "text": [
      " 4\n"
     ]
    },
    {
     "name": "stdout",
     "output_type": "stream",
     "text": [
      "Ingrese el caracter a imprimir (si se ingresa más de un caracter el resto será ignorado)\n"
     ]
    },
    {
     "name": "stdin",
     "output_type": "stream",
     "text": [
      " *\n"
     ]
    },
    {
     "name": "stdout",
     "output_type": "stream",
     "text": [
      "\n",
      "\n",
      "\n",
      "*    ****     ****    *\n",
      "**    ***     ***    **\n",
      "***    **     **    ***\n",
      "****    *     *    ****\n"
     ]
    }
   ],
   "source": [
    "charToPrint = \"*\"\n",
    "patronSize = 1\n",
    "\n",
    "patronSize = ValidateNaturalNumber(\"Ingrese el tamaño del patron triangular\", 20)\n",
    "\n",
    "\n",
    "validInput = False\n",
    "while(not validInput):\n",
    "    print(\"Ingrese el caracter a imprimir (si se ingresa más de un caracter el resto será ignorado)\")    \n",
    "    charToPrint = input()\n",
    "    if(len(charToPrint) == 0):\n",
    "        print(\"Ingresar al menos un caracter\")\n",
    "    else:\n",
    "        validInput = True\n",
    "        charToPrint = charToPrint[:1]\n",
    "\n",
    "print(\"\"\"\n",
    "\n",
    "\"\"\")\n",
    "        \n",
    "for i in range(0, patronSize):\n",
    "    patron1 = charToPrint*(i+1) + \" \"*(patronSize-i)\n",
    "    patron2 = \" \"*i + charToPrint*(patronSize-i)\n",
    "    patron3 = charToPrint*(patronSize-i) + \" \"*i\n",
    "    patron4 = \" \"*(patronSize-i) + charToPrint*(i+1)\n",
    "    print(f\"{patron1}{patron2}     {patron3}{patron4}\")\n",
    "           "
   ]
  },
  {
   "cell_type": "markdown",
   "metadata": {},
   "source": [
    "---"
   ]
  },
  {
   "cell_type": "markdown",
   "metadata": {},
   "source": [
    "### Ejercicio 3\n",
    "Haga un programa en Python que la fecha de nacimiento de una persona (puede ingresar por separado cada valor, es decir predir primero día, luego mes y luego año), despliegue la edad de la persona en años, meses y días"
   ]
  },
  {
   "cell_type": "code",
   "execution_count": 63,
   "metadata": {},
   "outputs": [
    {
     "name": "stdout",
     "output_type": "stream",
     "text": [
      "Ingrese su año de nacimiento\n"
     ]
    },
    {
     "name": "stdin",
     "output_type": "stream",
     "text": [
      " 1992\n"
     ]
    },
    {
     "name": "stdout",
     "output_type": "stream",
     "text": [
      "Ingrese el mes de su nacimiento\n"
     ]
    },
    {
     "name": "stdin",
     "output_type": "stream",
     "text": [
      " 7\n"
     ]
    },
    {
     "name": "stdout",
     "output_type": "stream",
     "text": [
      "Ingrese el día de su nacimiento\n"
     ]
    },
    {
     "name": "stdin",
     "output_type": "stream",
     "text": [
      " 22\n"
     ]
    },
    {
     "name": "stdout",
     "output_type": "stream",
     "text": [
      "Su edad aproximada es: Años:28, Meses:7, Dias:6\n"
     ]
    }
   ],
   "source": [
    "from datetime import datetime\n",
    "\n",
    "currentDate = datetime.now()\n",
    "\n",
    "Year = ValidateNaturalNumber(\"Ingrese su año de nacimiento\", currentDate.year)\n",
    "Month = ValidateNaturalNumber(\"Ingrese el mes de su nacimiento\", 12)\n",
    "DayLimit = 31 if Month in(1,3,5,7,8,10,12) else 30 if Month in (4,6,9,11) else 29 if Year % 4 == 0 and (Year % 100 != 0 or Year % 400 == 0) else 28\n",
    "Day = ValidateNaturalNumber(\"Ingrese el día de su nacimiento\", DayLimit)\n",
    "\n",
    "birthDate = datetime(Year, Month, Day)\n",
    "\n",
    "diffDays = (currentDate - birthDate).days\n",
    "\n",
    "Year = (diffDays // 365) if diffDays > 365 else 0\n",
    "diffDays = diffDays % 365\n",
    "Month = (diffDays // 30) if diffDays > 30 else 0\n",
    "Day = diffDays % 30\n",
    "\n",
    "print(f\"Su edad aproximada es: Años:{Year}, Meses:{Month}, Dias:{Day}\" )"
   ]
  },
  {
   "cell_type": "markdown",
   "metadata": {},
   "source": [
    "---\n",
    "---"
   ]
  },
  {
   "cell_type": "markdown",
   "metadata": {},
   "source": [
    "### Parte 2"
   ]
  },
  {
   "cell_type": "markdown",
   "metadata": {},
   "source": [
    "### Ejercicio 1\n",
    "Escriba una función en Python que dada una tupla de elementos (numeros o letras) esta se convierta a un string."
   ]
  },
  {
   "cell_type": "code",
   "execution_count": 29,
   "metadata": {},
   "outputs": [
    {
     "name": "stdout",
     "output_type": "stream",
     "text": [
      "102040570\n"
     ]
    }
   ],
   "source": [
    "from functools import reduce\n",
    "def SerializeTuple(inTuple):\n",
    "    return reduce((lambda x,y : str(x) +str(y)), inTuple)\n",
    "    \n",
    "a = (10,20,40,5,70)\n",
    "\n",
    "print(SerializeTuple(a))"
   ]
  },
  {
   "cell_type": "markdown",
   "metadata": {},
   "source": [
    "---"
   ]
  },
  {
   "cell_type": "markdown",
   "metadata": {},
   "source": [
    "### Ejercicio 2\n",
    "Cree un programa en Python que dada una lista de tuplas, elimina las tuplas que están vacías"
   ]
  },
  {
   "cell_type": "code",
   "execution_count": 30,
   "metadata": {},
   "outputs": [
    {
     "name": "stdout",
     "output_type": "stream",
     "text": [
      "[('X',), ('a', 'b'), ('a', 'b', 'c'), 'd']\n"
     ]
    }
   ],
   "source": [
    "def RemoveEmpty(inList):\n",
    "    return [ x for x in inList if len(x) > 0]\n",
    "\n",
    "print(RemoveEmpty([(),(),('X',),('a', 'b'), ('a','b','c'),('d')]))\n",
    "    "
   ]
  },
  {
   "cell_type": "markdown",
   "metadata": {},
   "source": [
    "---"
   ]
  },
  {
   "cell_type": "markdown",
   "metadata": {},
   "source": [
    "### Ejercicio 3\n",
    "Cree una función en Python que dada un tupla de tuplas con numeros, produzca una tupla con el promedio de cada tupla individual."
   ]
  },
  {
   "cell_type": "code",
   "execution_count": 31,
   "metadata": {},
   "outputs": [
    {
     "name": "stdout",
     "output_type": "stream",
     "text": [
      "(10.5, 44.0, 58.0)\n"
     ]
    }
   ],
   "source": [
    "def TuplesAvg(inTuple):\n",
    "    return tuple(sum(x)/len(x) for x in inTuple )\n",
    "\n",
    "example3 = ((10,10,10,12),(30,45,56,45),(81,80,39,32))\n",
    "\n",
    "print(TuplesAvg(example3))"
   ]
  },
  {
   "cell_type": "markdown",
   "metadata": {},
   "source": [
    "---"
   ]
  }
 ],
 "metadata": {
  "kernelspec": {
   "display_name": "Python 3",
   "language": "python",
   "name": "python3"
  },
  "language_info": {
   "codemirror_mode": {
    "name": "ipython",
    "version": 3
   },
   "file_extension": ".py",
   "mimetype": "text/x-python",
   "name": "python",
   "nbconvert_exporter": "python",
   "pygments_lexer": "ipython3",
   "version": "3.8.5"
  }
 },
 "nbformat": 4,
 "nbformat_minor": 4
}
