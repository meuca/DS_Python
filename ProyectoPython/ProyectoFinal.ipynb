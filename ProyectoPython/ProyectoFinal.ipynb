{
 "cells": [
  {
   "cell_type": "markdown",
   "metadata": {},
   "source": [
    "# Proyecto Final"
   ]
  },
  {
   "cell_type": "markdown",
   "metadata": {},
   "source": [
    "## Regresión Lineal univariable"
   ]
  },
  {
   "cell_type": "markdown",
   "metadata": {},
   "source": [
    "### 1. Cargar Librerías"
   ]
  },
  {
   "cell_type": "code",
   "execution_count": 80,
   "metadata": {},
   "outputs": [],
   "source": [
    "import numpy as np\n",
    "import pandas as pd\n",
    "import matplotlib.pyplot as plt\n",
    "import seaborn as sns"
   ]
  },
  {
   "cell_type": "markdown",
   "metadata": {},
   "source": [
    "### 2. Cargar Información"
   ]
  },
  {
   "cell_type": "code",
   "execution_count": 87,
   "metadata": {},
   "outputs": [],
   "source": [
    "data = pd.DataFrame(np.load('proyecto_training_data.npy'))\n",
    "data=data.set_axis(['SalePrice', 'OverallQual', '1stFlrSF', 'TotRmsAbvGrd', 'YearBuilt', 'LotFrontage'], axis=1)\n",
    "rowCount = data.shape[0]"
   ]
  },
  {
   "cell_type": "markdown",
   "metadata": {},
   "source": [
    "#### 2.1 Dividiendo datos para entrenamiento y para validación"
   ]
  },
  {
   "cell_type": "code",
   "execution_count": 88,
   "metadata": {},
   "outputs": [],
   "source": [
    "trainingDataPercentage = 0.8\n",
    "\n",
    "IsTrainingData = np.random.choice([0,1], p=[1-trainingDataPercentage, trainingDataPercentage], size=(rowCount))\n",
    "\n",
    "while(np.sum(IsTrainingData) == np.ceil(rowCount*trainingDataPercentage)):\n",
    "    IsTrainingData = np.random.choice([0,1], p=[1-trainingDataPercentage, trainingDataPercentage], size=(rowCount))\n",
    "    \n",
    "data['training']=IsTrainingData\n",
    "\n",
    "trainingData = data.loc[data['training'] == 1]\n",
    "validationData = data.loc[data['training'] == 0]"
   ]
  },
  {
   "cell_type": "markdown",
   "metadata": {},
   "source": [
    "### 3. Análisis Exploratorio"
   ]
  },
  {
   "cell_type": "code",
   "execution_count": 92,
   "metadata": {},
   "outputs": [
    {
     "data": {
      "text/html": [
       "<div>\n",
       "<style scoped>\n",
       "    .dataframe tbody tr th:only-of-type {\n",
       "        vertical-align: middle;\n",
       "    }\n",
       "\n",
       "    .dataframe tbody tr th {\n",
       "        vertical-align: top;\n",
       "    }\n",
       "\n",
       "    .dataframe thead th {\n",
       "        text-align: right;\n",
       "    }\n",
       "</style>\n",
       "<table border=\"1\" class=\"dataframe\">\n",
       "  <thead>\n",
       "    <tr style=\"text-align: right;\">\n",
       "      <th></th>\n",
       "      <th>Variable</th>\n",
       "      <th>Media</th>\n",
       "      <th>Valor Máximo</th>\n",
       "      <th>Valor Mínimo</th>\n",
       "      <th>Rango</th>\n",
       "      <th>Desviación Estándar</th>\n",
       "    </tr>\n",
       "  </thead>\n",
       "  <tbody>\n",
       "    <tr>\n",
       "      <th>0</th>\n",
       "      <td>SalePrice</td>\n",
       "      <td>180051.595458</td>\n",
       "      <td>755000.0</td>\n",
       "      <td>34900.0</td>\n",
       "      <td>720100.0</td>\n",
       "      <td>79601.447094</td>\n",
       "    </tr>\n",
       "    <tr>\n",
       "      <th>1</th>\n",
       "      <td>OverallQual</td>\n",
       "      <td>6.084945</td>\n",
       "      <td>10.0</td>\n",
       "      <td>1.0</td>\n",
       "      <td>9.0</td>\n",
       "      <td>1.378808</td>\n",
       "    </tr>\n",
       "    <tr>\n",
       "      <th>2</th>\n",
       "      <td>1stFlrSF</td>\n",
       "      <td>1154.738436</td>\n",
       "      <td>4692.0</td>\n",
       "      <td>372.0</td>\n",
       "      <td>4320.0</td>\n",
       "      <td>386.382293</td>\n",
       "    </tr>\n",
       "    <tr>\n",
       "      <th>3</th>\n",
       "      <td>TotRmsAbvGrd</td>\n",
       "      <td>6.532380</td>\n",
       "      <td>14.0</td>\n",
       "      <td>3.0</td>\n",
       "      <td>11.0</td>\n",
       "      <td>1.645649</td>\n",
       "    </tr>\n",
       "    <tr>\n",
       "      <th>4</th>\n",
       "      <td>YearBuilt</td>\n",
       "      <td>1970.582843</td>\n",
       "      <td>2010.0</td>\n",
       "      <td>1880.0</td>\n",
       "      <td>130.0</td>\n",
       "      <td>30.581456</td>\n",
       "    </tr>\n",
       "    <tr>\n",
       "      <th>5</th>\n",
       "      <td>LotFrontage</td>\n",
       "      <td>69.954407</td>\n",
       "      <td>313.0</td>\n",
       "      <td>21.0</td>\n",
       "      <td>NaN</td>\n",
       "      <td>24.658497</td>\n",
       "    </tr>\n",
       "  </tbody>\n",
       "</table>\n",
       "</div>"
      ],
      "text/plain": [
       "       Variable          Media  Valor Máximo  Valor Mínimo     Rango  \\\n",
       "0     SalePrice  180051.595458      755000.0       34900.0  720100.0   \n",
       "1   OverallQual       6.084945          10.0           1.0       9.0   \n",
       "2      1stFlrSF    1154.738436        4692.0         372.0    4320.0   \n",
       "3  TotRmsAbvGrd       6.532380          14.0           3.0      11.0   \n",
       "4     YearBuilt    1970.582843        2010.0        1880.0     130.0   \n",
       "5   LotFrontage      69.954407         313.0          21.0       NaN   \n",
       "\n",
       "   Desviación Estándar  \n",
       "0         79601.447094  \n",
       "1             1.378808  \n",
       "2           386.382293  \n",
       "3             1.645649  \n",
       "4            30.581456  \n",
       "5            24.658497  "
      ]
     },
     "execution_count": 92,
     "metadata": {},
     "output_type": "execute_result"
    }
   ],
   "source": [
    "stats = pd.DataFrame({\n",
    "    'Variable':pd.Series(['SalePrice', 'OverallQual', '1stFlrSF', 'TotRmsAbvGrd', 'YearBuilt', 'LotFrontage']),\n",
    "    'Media':pd.Series([np.nanmean(trainingData['SalePrice']), np.nanmean(trainingData['OverallQual']), np.nanmean(trainingData['1stFlrSF']), np.nanmean(trainingData['TotRmsAbvGrd']), np.nanmean(trainingData['YearBuilt']), np.nanmean(trainingData['LotFrontage'])]),\n",
    "    'Valor Máximo':pd.Series([np.nanmax(trainingData['SalePrice']), np.nanmax(trainingData['OverallQual']), np.nanmax(trainingData['1stFlrSF']), np.nanmax(trainingData['TotRmsAbvGrd']), np.nanmax(trainingData['YearBuilt']), np.nanmax(trainingData['LotFrontage'])]),\n",
    "    'Valor Mínimo':pd.Series([np.nanmin(trainingData['SalePrice']), np.nanmin(trainingData['OverallQual']), np.nanmin(trainingData['1stFlrSF']), np.nanmin(trainingData['TotRmsAbvGrd']), np.nanmin(trainingData['YearBuilt']), np.nanmin(trainingData['LotFrontage'])]),\n",
    "    'Rango':pd.Series([np.ptp(trainingData['SalePrice']), np.ptp(trainingData['OverallQual']), np.ptp(trainingData['1stFlrSF']), np.ptp(trainingData['TotRmsAbvGrd']), np.ptp(trainingData['YearBuilt']), np.ptp(trainingData['LotFrontage'])]),\n",
    "    'Desviación Estándar':pd.Series([np.std(trainingData['SalePrice']), np.std(trainingData['OverallQual']), np.std(trainingData['1stFlrSF']), np.std(trainingData['TotRmsAbvGrd']), np.std(trainingData['YearBuilt']), np.std(trainingData['LotFrontage'])]),\n",
    "})\n",
    "stats"
   ]
  },
  {
   "cell_type": "markdown",
   "metadata": {},
   "source": [
    "### 4. Histogramas"
   ]
  },
  {
   "cell_type": "code",
   "execution_count": 96,
   "metadata": {},
   "outputs": [
    {
     "data": {
      "text/plain": [
       "<seaborn.axisgrid.FacetGrid at 0x289859a2af0>"
      ]
     },
     "execution_count": 96,
     "metadata": {},
     "output_type": "execute_result"
    },
    {
     "data": {
      "image/png": "[encoded data removed]",
      "text/plain": [
       "<Figure size 360x360 with 1 Axes>"
      ]
     },
     "metadata": {
      "needs_background": "light"
     },
     "output_type": "display_data"
    },
    {
     "data": {
      "image/png": "[encoded data removed]",
      "text/plain": [
       "<Figure size 360x360 with 1 Axes>"
      ]
     },
     "metadata": {
      "needs_background": "light"
     },
     "output_type": "display_data"
    },
    {
     "data": {
      "image/png": "[encoded data removed]",
      "text/plain": [
       "<Figure size 360x360 with 1 Axes>"
      ]
     },
     "metadata": {
      "needs_background": "light"
     },
     "output_type": "display_data"
    },
    {
     "data": {
      "image/png": "[encoded data removed]",
      "text/plain": [
       "<Figure size 360x360 with 1 Axes>"
      ]
     },
     "metadata": {
      "needs_background": "light"
     },
     "output_type": "display_data"
    },
    {
     "data": {
      "image/png": "[encoded data removed]",
      "text/plain": [
       "<Figure size 360x360 with 1 Axes>"
      ]
     },
     "metadata": {
      "needs_background": "light"
     },
     "output_type": "display_data"
    },
    {
     "data": {
      "image/png": "[encoded data removed]",
      "text/plain": [
       "<Figure size 360x360 with 1 Axes>"
      ]
     },
     "metadata": {
      "needs_background": "light"
     },
     "output_type": "display_data"
    }
   ],
   "source": [
    "sns.displot(trainingData['SalePrice'])\n",
    "sns.displot(trainingData['OverallQual'])\n",
    "sns.displot(trainingData['1stFlrSF'])\n",
    "sns.displot(trainingData['TotRmsAbvGrd'])\n",
    "sns.displot(trainingData['YearBuilt'])\n",
    "sns.displot(trainingData['LotFrontage'])"
   ]
  },
  {
   "cell_type": "code",
   "execution_count": null,
   "metadata": {},
   "outputs": [],
   "source": []
  },
  {
   "cell_type": "code",
   "execution_count": null,
   "metadata": {},
   "outputs": [],
   "source": []
  }
 ],
 "metadata": {
  "kernelspec": {
   "display_name": "Python 3",
   "language": "python",
   "name": "python3"
  },
  "language_info": {
   "codemirror_mode": {
    "name": "ipython",
    "version": 3
   },
   "file_extension": ".py",
   "mimetype": "text/x-python",
   "name": "python",
   "nbconvert_exporter": "python",
   "pygments_lexer": "ipython3",
   "version": "3.8.5"
  }
 },
 "nbformat": 4,
 "nbformat_minor": 4
}
